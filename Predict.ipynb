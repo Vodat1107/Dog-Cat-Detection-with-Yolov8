{
 "cells": [
  {
   "cell_type": "code",
   "execution_count": 1,
   "id": "d3c2c60b",
   "metadata": {},
   "outputs": [],
   "source": [
    "from ultralytics import YOLO\n",
    "import os"
   ]
  },
  {
   "cell_type": "code",
   "execution_count": 2,
   "id": "dead470a",
   "metadata": {},
   "outputs": [],
   "source": [
    "model = YOLO(\"best.pt\") "
   ]
  },
  {
   "cell_type": "code",
   "execution_count": 3,
   "id": "420d3508",
   "metadata": {},
   "outputs": [
    {
     "name": "stdout",
     "output_type": "stream",
     "text": [
      "\n",
      "image 1/1 /Users/thanhdat/Downloads/anh-cho-meo.jpg: 512x640 2 dogs, 1 cat, 57.6ms\n",
      "Speed: 1.7ms preprocess, 57.6ms inference, 0.6ms postprocess per image at shape (1, 3, 512, 640)\n"
     ]
    }
   ],
   "source": [
    "results = model(\"/Users/thanhdat/Downloads/anh-cho-meo.jpg\")\n",
    "results[0].show()"
   ]
  },
  {
   "cell_type": "markdown",
   "id": "45c7615a",
   "metadata": {},
   "source": [
    "| Thuộc tính      | Ý nghĩa |\n",
    "|-----------------|---------|\n",
    "| `path`          | Đường dẫn ảnh gốc |\n",
    "| `names`         | Map `{class_id: class_name}` |\n",
    "| `boxes.xyxy`    | Tọa độ bbox `(x_min, y_min, x_max, y_max)` |\n",
    "| `boxes.conf`    | Độ tin cậy của bbox |\n",
    "| `boxes.cls`     | ID class của bbox |\n",
    "| `masks`         | Segmentation mask (nếu có) |\n",
    "| `keypoints`     | Keypoints (nếu có) |\n",
    "| `probs`         | Xác suất từng class (nếu classification) |"
   ]
  },
  {
   "cell_type": "code",
   "execution_count": 4,
   "id": "ec487929",
   "metadata": {},
   "outputs": [
    {
     "name": "stdout",
     "output_type": "stream",
     "text": [
      "Ảnh anh-cho-meo.jpg phát hiện: 1 cat, 2 dog\n"
     ]
    }
   ],
   "source": [
    "for result in results:\n",
    "    image_name = os.path.basename(result.path)\n",
    "    class_ids = []\n",
    "    for cid in result.boxes.cls:\n",
    "        class_ids.append(int(cid))\n",
    "    \n",
    "    class_names = []\n",
    "    for cid in class_ids:\n",
    "        class_name = result.names[cid]\n",
    "        class_names.append(class_name)\n",
    "        \n",
    "    counts = {}\n",
    "    for name in class_names:\n",
    "        if name not in counts:\n",
    "            counts[name] = 1\n",
    "        else:\n",
    "            counts[name] += 1\n",
    "            \n",
    "            \n",
    "    if counts:\n",
    "        objects_str = \"\"\n",
    "        for name in counts:\n",
    "            objects_str += f\"{counts[name]} {name}, \"\n",
    "        objects_str = objects_str.rstrip(\", \")\n",
    "        print(f\"Ảnh {image_name} phát hiện: {objects_str}\")\n",
    "    else:\n",
    "        print(f\"Ảnh {image_name} không phát hiện đối tượng nào\")"
   ]
  }
 ],
 "metadata": {
  "kernelspec": {
   "display_name": "Python 3",
   "language": "python",
   "name": "python3"
  },
  "language_info": {
   "codemirror_mode": {
    "name": "ipython",
    "version": 3
   },
   "file_extension": ".py",
   "mimetype": "text/x-python",
   "name": "python",
   "nbconvert_exporter": "python",
   "pygments_lexer": "ipython3",
   "version": "3.12.0"
  }
 },
 "nbformat": 4,
 "nbformat_minor": 5
}
